{
 "cells": [
  {
   "cell_type": "markdown",
   "metadata": {},
   "source": [
    "# Topic extraction\n",
    "\n",
    "Using `tomotopy`'s LDA implementation.\n",
    "Comparing different number of topics and evaluating coherence."
   ]
  },
  {
   "cell_type": "code",
   "execution_count": 1,
   "metadata": {},
   "outputs": [],
   "source": [
    "import psycopg2\n",
    "import numpy \n",
    "from time import time\n",
    "import nltk\n",
    "import wordcloud\n",
    "import matplotlib.pyplot as plt\n",
    "import gensim\n",
    "\n",
    "n_samples = 100000\n",
    "n_iterations = 250\n",
    "test_ratio = 0.2"
   ]
  },
  {
   "cell_type": "code",
   "execution_count": 2,
   "metadata": {},
   "outputs": [],
   "source": [
    "def log(message):\n",
    "    print(message, flush=True)"
   ]
  },
  {
   "cell_type": "code",
   "execution_count": 3,
   "metadata": {},
   "outputs": [
    {
     "name": "stdout",
     "output_type": "stream",
     "text": [
      "Connecting to DB...\n",
      "Loading dataset...\n",
      "done in 0.679s.\n",
      "100000 samples\n"
     ]
    }
   ],
   "source": [
    "t0 = time()\n",
    "print(\"Connecting to DB...\")\n",
    "conn = psycopg2.connect(\"dbname='peanut_prod' user='mezis' host='frolic.local' password='av85ck4g'\")\n",
    "cur = conn.cursor()\n",
    "\n",
    "print(\"Loading dataset...\")\n",
    "cur.execute(f\"\"\"\n",
    "    SELECT CONCAT_WS(' ', title, body) AS text\n",
    "    FROM post p\n",
    "    JOIN users u ON u.id = p.author_id\n",
    "    --JOIN post_stats ps ON ps.id = p.id AND ps.view_count > 50\n",
    "    WHERE TRUE\n",
    "      AND u.account_status = 'active'\n",
    "      AND p.status = 'active'\n",
    "    ORDER BY p.id DESC\n",
    "    LIMIT {n_samples}\n",
    "\"\"\")\n",
    "data_samples = [row[0] for row in cur.fetchall()]\n",
    "\n",
    "print(\"done in %0.3fs.\" % (time() - t0))\n",
    "print(\"%d samples\" % len(data_samples))"
   ]
  },
  {
   "cell_type": "code",
   "execution_count": 4,
   "metadata": {
    "scrolled": true
   },
   "outputs": [
    {
     "name": "stdout",
     "output_type": "stream",
     "text": [
      "Preparing text preprocessing...\n",
      "done in 0.148s.\n"
     ]
    },
    {
     "name": "stderr",
     "output_type": "stream",
     "text": [
      "[nltk_data] Downloading package punkt to /home/mezis/nltk_data...\n",
      "[nltk_data]   Package punkt is already up-to-date!\n",
      "[nltk_data] Downloading package wordnet to /home/mezis/nltk_data...\n",
      "[nltk_data]   Package wordnet is already up-to-date!\n",
      "[nltk_data] Downloading package stopwords to /home/mezis/nltk_data...\n",
      "[nltk_data]   Package stopwords is already up-to-date!\n",
      "[nltk_data] Downloading package averaged_perceptron_tagger to\n",
      "[nltk_data]     /home/mezis/nltk_data...\n",
      "[nltk_data]   Package averaged_perceptron_tagger is already up-to-\n",
      "[nltk_data]       date!\n"
     ]
    }
   ],
   "source": [
    "print(\"Preparing text preprocessing...\")\n",
    "import re\n",
    "\n",
    "t0 = time()\n",
    "nltk.download('punkt')\n",
    "nltk.download('wordnet')\n",
    "nltk.download('stopwords')\n",
    "nltk.download('averaged_perceptron_tagger')\n",
    "\n",
    "class MyPreprocessor:\n",
    "    def __call__(self, doc):\n",
    "        return doc.lower()\n",
    "\n",
    "class MyTokenizer:\n",
    "    def __init__(self):\n",
    "        self.wnl = nltk.stem.WordNetLemmatizer()\n",
    "        self.stopwords = frozenset(\n",
    "            nltk.corpus.stopwords.words('english') + \"\"\"\n",
    "                n't\n",
    "                anyone\n",
    "                everyone\n",
    "                feel like want get\n",
    "            \"\"\".split()\n",
    "        )\n",
    "        self.re = re.compile(r\"[a-z0-9]\")\n",
    "        \n",
    "    def __call__(self, doc):\n",
    "        return [token for token in [self.filter(token) for token in self.tokenize(doc)] if token]\n",
    "    \n",
    "    def tokenize(self, doc):\n",
    "        return nltk.word_tokenize(doc.lower());\n",
    "    \n",
    "    def filter(self, token):\n",
    "        if token in self.stopwords:\n",
    "            return\n",
    "        if not self.re.match(token):\n",
    "            return\n",
    "        return self.wnl.lemmatize(token)\n",
    "\n",
    "print(\"done in %0.3fs.\" % (time() - t0))"
   ]
  },
  {
   "cell_type": "code",
   "execution_count": 5,
   "metadata": {},
   "outputs": [
    {
     "name": "stdout",
     "output_type": "stream",
     "text": [
      "Tokenizing...\n"
     ]
    },
    {
     "name": "stderr",
     "output_type": "stream",
     "text": [
      "100%|██████████| 100000/100000 [00:10<00:00, 9956.05it/s]\n"
     ]
    },
    {
     "name": "stdout",
     "output_type": "stream",
     "text": [
      "Building gensim corpus...\n",
      "79543 training documents\n",
      "19886 test documents\n"
     ]
    }
   ],
   "source": [
    "from tqdm import tqdm\n",
    "import multiprocessing\n",
    "\n",
    "print('Tokenizing...')\n",
    "tokenizer = MyTokenizer()\n",
    "data_tokenized = []\n",
    "pool = multiprocessing.Pool(processes=8)\n",
    "for tokenized in pool.imap_unordered(tokenizer, tqdm(data_samples)):\n",
    "    data_tokenized.append(tokenized)\n",
    "\n",
    "# remove zero-length documents\n",
    "data_tokenized = [d for d in data_tokenized if len(d) > 0]\n",
    "\n",
    "n_train = int(len(data_tokenized) * (1 - test_ratio))\n",
    "data_train = data_tokenized[: n_train]\n",
    "data_test  = data_tokenized[n_train :]\n",
    "\n",
    "print(\"Building gensim corpus...\")\n",
    "gensim_dictionary = gensim.corpora.Dictionary(data_train)\n",
    "\n",
    "print(f'{len(data_train)} training documents')\n",
    "print(f'{len(data_test)} test documents')"
   ]
  },
  {
   "cell_type": "code",
   "execution_count": 6,
   "metadata": {},
   "outputs": [
    {
     "name": "stderr",
     "output_type": "stream",
     "text": [
      "100%|██████████| 79543/79543 [00:00<00:00, 133825.35it/s]\n"
     ]
    }
   ],
   "source": [
    "import tomotopy as tp\n",
    "\n",
    "model = tp.LDAModel(\n",
    "    tw=tp.TermWeight.ONE,\n",
    "    k=20,\n",
    "    min_cf=200,\n",
    "    seed=0\n",
    ")\n",
    "\n",
    "for tokens in tqdm(data_train):\n",
    "    model.add_doc(tokens)"
   ]
  },
  {
   "cell_type": "code",
   "execution_count": 7,
   "metadata": {},
   "outputs": [],
   "source": [
    "# https://towardsdatascience.com/dont-be-afraid-of-nonparametric-topic-models-part-2-python-e5666db347a\n",
    "# https://github.com/ecoronado92/towards_data_science/blob/master/hdp_example/scripts/model_funcs.py\n",
    "\n",
    "def get_topic_words(model, top_n=10):\n",
    "    '''Wrapper function to extract topics from trained tomotopy HDP model \n",
    "    \n",
    "    ** Inputs **\n",
    "    model:obj -> trained model\n",
    "    top_n: int -> top n words in topic based on frequencies\n",
    "    \n",
    "    ** Returns **\n",
    "    topics: dict -> per topic, an arrays2 with top words and associated frequencies \n",
    "    '''\n",
    "    \n",
    "    # Get most important topics by # of times they were assigned (i.e. counts)\n",
    "    sorted_topics = range(model.k)\n",
    "    \n",
    "    topics=dict()\n",
    "    \n",
    "    # For topics found, extract only those that are still assigned\n",
    "    for k in sorted_topics:\n",
    "        try:\n",
    "            if not model.is_live_topic(k): continue # remove un-assigned topics at the end (i.e. not alive)\n",
    "        except AttributeError: \n",
    "            pass\n",
    "        \n",
    "        topic_wp = model.get_topic_words(k, top_n=top_n)\n",
    "\n",
    "        topics[k] = topic_wp # store topic word/frequency array\n",
    "        \n",
    "    return topics\n",
    "\n",
    "\n",
    "\n",
    "def eval_coherence(topics_dict, vocab, documents, coherence_type='c_v'):\n",
    "    '''Wrapper function that uses gensim Coherence Model to compute topic coherence scores\n",
    "    \n",
    "    ** Inputs **\n",
    "    topic_dict: dict -> topic dictionary from train_HDPmodel function\n",
    "    vocab: gensim.corpora.Dictionary\n",
    "    documents: list of list of strings\n",
    "    coherence_typ: str -> type of coherence value to comput (see gensim for opts)\n",
    "    \n",
    "    ** Returns **\n",
    "    3-tuple,\n",
    "        float -> coherence value\n",
    "        float list -> per-topic coherence\n",
    "        float list -> per-topic coherence deviation\n",
    "    '''\n",
    "    \n",
    "    # Build topic list from dictionary\n",
    "    topic_list=[]\n",
    "    for k, tups in topics_dict.items():\n",
    "        topic_tokens = [w for w,p in tups]\n",
    "        topic_list.append(topic_tokens)\n",
    "            \n",
    "\n",
    "    # Build Coherence model\n",
    "    cm = gensim.models.CoherenceModel(\n",
    "        topics=topic_list,\n",
    "        dictionary=vocab,\n",
    "        texts=documents, \n",
    "        coherence=coherence_type,\n",
    "        processes=8)\n",
    "    \n",
    "    return cm.get_coherence()\n"
   ]
  },
  {
   "cell_type": "code",
   "execution_count": 8,
   "metadata": {
    "scrolled": false
   },
   "outputs": [],
   "source": [
    "#\n",
    "# FIXME:\n",
    "# only consider a topic when its score is > some threshold (2x 1/20 ?)\n",
    "\n",
    "def topic_counts(model, top_n):\n",
    "    \"\"\"For each topic, count posts where the topic figure in the `top_n` topics\n",
    "    \n",
    "    Returns:\n",
    "    dict of topic_id (int), posts (int)\n",
    "    \"\"\"\n",
    "    counts = {}\n",
    "    threshold = 2.0 / model.k\n",
    "    for k in range(model.k):\n",
    "        counts[k] = 0\n",
    "    for doc in tqdm(model.docs):\n",
    "        for k, v in doc.get_topics(top_n=top_n):\n",
    "            if v < threshold: next\n",
    "            counts[k] += 1\n",
    "    return counts"
   ]
  },
  {
   "cell_type": "code",
   "execution_count": 9,
   "metadata": {},
   "outputs": [],
   "source": [
    "# http://qpleple.com/perplexity-to-evaluate-topic-models/\n",
    "\n",
    "def model_perplexity(model, samples):\n",
    "    count = 0\n",
    "    docs = [model.make_doc(s) for s in samples]\n",
    "    _, log_likelihoods = model.infer(doc=docs)\n",
    "    lengths = [len(s) for s in samples]\n",
    "    \n",
    "    assert len(lengths) == len(log_likelihoods)\n",
    "    return numpy.sum(numpy.array(log_likelihoods)) / numpy.sum(numpy.array(lengths))\n"
   ]
  },
  {
   "cell_type": "code",
   "execution_count": 10,
   "metadata": {},
   "outputs": [
    {
     "name": "stderr",
     "output_type": "stream",
     "text": [
      "100%|██████████| 250/250 [38:16<00:00,  9.19s/it]\n"
     ]
    }
   ],
   "source": [
    "train_perplexity = {}\n",
    "test_perplexity = {}\n",
    "coherence_c_v = {}\n",
    "coherence_u_mass = {}\n",
    "\n",
    "\n",
    "for iter in tqdm(range(0, n_iterations)):\n",
    "    model.train(1)\n",
    "    if not (iter <= 25 or iter % 10 == 0): next\n",
    "    \n",
    "    train_perplexity[iter] = model_perplexity(model, data_train)\n",
    "    test_perplexity[iter] = model_perplexity(model, data_test)\n",
    "\n",
    "    c = eval_coherence(get_topic_words(model), gensim_dictionary, data_train, coherence_type='c_v')\n",
    "    coherence_c_v[iter] = c\n",
    "\n",
    "    c = eval_coherence(get_topic_words(model), gensim_dictionary, data_train, coherence_type='u_mass')\n",
    "    coherence_u_mass[iter] = c\n"
   ]
  },
  {
   "cell_type": "code",
   "execution_count": 15,
   "metadata": {},
   "outputs": [
    {
     "data": {
      "image/png": "[encoded data removed]",
      "text/plain": [
       "<Figure size 864x864 with 4 Axes>"
      ]
     },
     "metadata": {
      "needs_background": "light"
     },
     "output_type": "display_data"
    }
   ],
   "source": [
    "fig = plt.figure(figsize=(12,12))\n",
    "fig.suptitle('LDA training performance over iterations')\n",
    "\n",
    "x = list(coherence_c_v.keys())\n",
    "y = list(coherence_c_v.values())\n",
    "\n",
    "plt.subplot(221)\n",
    "plt.plot(x,y)\n",
    "plt.title('Coherence (c_v)')\n",
    "\n",
    "y = list(coherence_u_mass.values())\n",
    "\n",
    "plt.subplot(222)\n",
    "plt.plot(x,y)\n",
    "plt.title('Coherence (u_mass)')\n",
    "\n",
    "y = list(train_perplexity.values())\n",
    "\n",
    "plt.subplot(223)\n",
    "plt.plot(x,y)\n",
    "plt.title('Training data perplexity')\n",
    "\n",
    "y = list(test_perplexity.values())\n",
    "\n",
    "plt.subplot(224)\n",
    "plt.plot(x,y)\n",
    "plt.title('Hold-out data perplexity')\n",
    "\n",
    "plt.show()\n",
    "\n"
   ]
  },
  {
   "cell_type": "code",
   "execution_count": null,
   "metadata": {},
   "outputs": [],
   "source": []
  }
 ],
 "metadata": {
  "kernelspec": {
   "display_name": "Python 3",
   "language": "python",
   "name": "python3"
  },
  "language_info": {
   "codemirror_mode": {
    "name": "ipython",
    "version": 3
   },
   "file_extension": ".py",
   "mimetype": "text/x-python",
   "name": "python",
   "nbconvert_exporter": "python",
   "pygments_lexer": "ipython3",
   "version": "3.7.3"
  }
 },
 "nbformat": 4,
 "nbformat_minor": 4
}
