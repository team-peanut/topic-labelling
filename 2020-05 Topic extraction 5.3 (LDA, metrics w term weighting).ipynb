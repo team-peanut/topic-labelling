{
 "cells": [
  {
   "cell_type": "markdown",
   "metadata": {},
   "source": [
    "# Topic extraction\n",
    "\n",
    "Using `tomotopy`'s LDA implementation.\n",
    "Comparing different token weighings — nominal, IDF, and PMI (Pointwise Mutual Information) in terms of topic coherence."
   ]
  },
  {
   "cell_type": "code",
   "execution_count": 18,
   "metadata": {},
   "outputs": [
    {
     "name": "stdout",
     "output_type": "stream",
     "text": [
      "The autotime extension is already loaded. To reload it, use:\n",
      "  %reload_ext autotime\n",
      "time: 3.4 ms\n"
     ]
    }
   ],
   "source": [
    "%load_ext autotime\n",
    "\n",
    "import psycopg2\n",
    "import numpy\n",
    "from time import time\n",
    "import nltk\n",
    "import wordcloud\n",
    "import matplotlib.pyplot as plt\n",
    "import gensim\n",
    "\n",
    "# DATASET_NAME = 'small'\n",
    "# N_REPEATS = 2\n",
    "# N_ITERATIONS = 1000\n",
    "# N_TOPICS = 3\n",
    "\n",
    "DATASET_NAME = '200k-lemma-nophrase'\n",
    "N_REPEATS = 50\n",
    "N_ITERATIONS = 1000\n",
    "N_TOPICS = 35"
   ]
  },
  {
   "cell_type": "code",
   "execution_count": 19,
   "metadata": {},
   "outputs": [
    {
     "name": "stdout",
     "output_type": "stream",
     "text": [
      "time: 669 µs\n"
     ]
    }
   ],
   "source": [
    "def log(message):\n",
    "    print(message, flush=True)"
   ]
  },
  {
   "cell_type": "code",
   "execution_count": 20,
   "metadata": {},
   "outputs": [
    {
     "name": "stdout",
     "output_type": "stream",
     "text": [
      "Loading dataset...\n",
      "Building gensim corpus...\n",
      "145953 training documents\n",
      "36489 test documents\n",
      "time: 6.84 s\n"
     ]
    }
   ],
   "source": [
    "import pickle\n",
    "\n",
    "log('Loading dataset...')\n",
    "dataset = pickle.load(open(f'dataset.{DATASET_NAME}.pkl', 'rb'))\n",
    "data_train = dataset['train']\n",
    "data_test  = dataset['test']\n",
    "\n",
    "print(\"Building gensim corpus...\")\n",
    "gensim_dictionary = gensim.corpora.Dictionary(data_train)\n",
    "\n",
    "log(f'{len(data_train)} training documents')\n",
    "log(f'{len(data_test)} test documents')"
   ]
  },
  {
   "cell_type": "code",
   "execution_count": 21,
   "metadata": {},
   "outputs": [
    {
     "name": "stderr",
     "output_type": "stream",
     "text": [
      "100%|██████████| 145953/145953 [00:01<00:00, 73481.52it/s] "
     ]
    },
    {
     "name": "stdout",
     "output_type": "stream",
     "text": [
      "time: 2.16 s\n"
     ]
    },
    {
     "name": "stderr",
     "output_type": "stream",
     "text": [
      "\n"
     ]
    }
   ],
   "source": [
    "import tomotopy as tp\n",
    "from tqdm import tqdm\n",
    "corpus_train = tp.utils.Corpus()\n",
    "\n",
    "for doc in tqdm(data_train):\n",
    "    corpus_train.add_doc(doc)"
   ]
  },
  {
   "cell_type": "code",
   "execution_count": 22,
   "metadata": {},
   "outputs": [
    {
     "name": "stdout",
     "output_type": "stream",
     "text": [
      "time: 496 µs\n"
     ]
    }
   ],
   "source": [
    "def prepare_model(k, tw, corpus):\n",
    "    model = tp.LDAModel(tw=tw, k=k, corpus=corpus)\n",
    "    return model"
   ]
  },
  {
   "cell_type": "code",
   "execution_count": 6,
   "metadata": {},
   "outputs": [
    {
     "name": "stdout",
     "output_type": "stream",
     "text": [
      "Preparing models...\n"
     ]
    },
    {
     "name": "stderr",
     "output_type": "stream",
     "text": [
      "100%|██████████| 60/60 [00:45<00:00,  1.32it/s]"
     ]
    },
    {
     "name": "stdout",
     "output_type": "stream",
     "text": [
      "Training models...\n"
     ]
    },
    {
     "name": "stderr",
     "output_type": "stream",
     "text": [
      "\n",
      "60it [1:38:48, 98.81s/it] "
     ]
    },
    {
     "name": "stdout",
     "output_type": "stream",
     "text": [
      "time: 1h 39min 34s\n"
     ]
    },
    {
     "name": "stderr",
     "output_type": "stream",
     "text": [
      "\n"
     ]
    }
   ],
   "source": [
    "import helpers as h\n",
    "\n",
    "models = []\n",
    "train_perplexity = {}\n",
    "test_perplexity = {}\n",
    "coherence_c_v = {}\n",
    "coherence_u_mass = {}\n",
    "coherence_c_npmi = {}\n",
    "iterations = {}\n",
    "training_time = {}\n",
    "\n",
    "log('Preparing models...')\n",
    "for tw in tqdm([tp.TermWeight.ONE, tp.TermWeight.IDF, tp.TermWeight.PMI] * N_REPEATS):\n",
    "    models.append(prepare_model(k=N_TOPICS, tw=tw, corpus=corpus_train))\n",
    "\n",
    "log('Training models...')\n",
    "for i,m in tqdm(enumerate(models)):\n",
    "    t,n = h.train_model(m)\n",
    "    iterations[i] = n\n",
    "    training_time[i] = t"
   ]
  },
  {
   "cell_type": "code",
   "execution_count": 7,
   "metadata": {},
   "outputs": [
    {
     "name": "stdout",
     "output_type": "stream",
     "text": [
      "Calculating perplexity...\n"
     ]
    },
    {
     "name": "stderr",
     "output_type": "stream",
     "text": [
      "60it [07:28,  7.48s/it]"
     ]
    },
    {
     "name": "stdout",
     "output_type": "stream",
     "text": [
      "time: 7min 28s\n"
     ]
    },
    {
     "name": "stderr",
     "output_type": "stream",
     "text": [
      "\n"
     ]
    }
   ],
   "source": [
    "log('Calculating perplexity...')\n",
    "for i, model in tqdm(enumerate(models)):\n",
    "    train_perplexity[i] = h.eval_perplexity(model, data_train)\n",
    "    test_perplexity[i]  = h.eval_perplexity(model, data_test)"
   ]
  },
  {
   "cell_type": "code",
   "execution_count": 8,
   "metadata": {},
   "outputs": [
    {
     "name": "stdout",
     "output_type": "stream",
     "text": [
      "Calculating C_v coherence...\n"
     ]
    },
    {
     "name": "stderr",
     "output_type": "stream",
     "text": [
      "60it [11:36, 11.60s/it]"
     ]
    },
    {
     "name": "stdout",
     "output_type": "stream",
     "text": [
      "time: 11min 36s\n"
     ]
    },
    {
     "name": "stderr",
     "output_type": "stream",
     "text": [
      "\n"
     ]
    }
   ],
   "source": [
    "log('Calculating C_v coherence...')\n",
    "for i, model in tqdm(enumerate(models)):\n",
    "    cv = h.eval_coherence(h.get_topic_words(model), gensim_dictionary, data_train, coherence_type='c_v')\n",
    "    coherence_c_v[i] = cv"
   ]
  },
  {
   "cell_type": "code",
   "execution_count": 9,
   "metadata": {},
   "outputs": [
    {
     "name": "stdout",
     "output_type": "stream",
     "text": [
      "Calculating U_mass coherence...\n"
     ]
    },
    {
     "name": "stderr",
     "output_type": "stream",
     "text": [
      "60it [06:13,  6.23s/it]"
     ]
    },
    {
     "name": "stdout",
     "output_type": "stream",
     "text": [
      "time: 6min 13s\n"
     ]
    },
    {
     "name": "stderr",
     "output_type": "stream",
     "text": [
      "\n"
     ]
    }
   ],
   "source": [
    "log('Calculating U_mass coherence...')\n",
    "for i, model in tqdm(enumerate(models)):\n",
    "    cu = h.eval_coherence(h.get_topic_words(model), gensim_dictionary, data_train, coherence_type='u_mass')    \n",
    "    coherence_u_mass[i] = cu"
   ]
  },
  {
   "cell_type": "code",
   "execution_count": 10,
   "metadata": {},
   "outputs": [
    {
     "name": "stdout",
     "output_type": "stream",
     "text": [
      "Calculating C_npmi coherence...\n"
     ]
    },
    {
     "name": "stderr",
     "output_type": "stream",
     "text": [
      "60it [10:24, 10.41s/it]"
     ]
    },
    {
     "name": "stdout",
     "output_type": "stream",
     "text": [
      "time: 10min 24s\n"
     ]
    },
    {
     "name": "stderr",
     "output_type": "stream",
     "text": [
      "\n"
     ]
    }
   ],
   "source": [
    "log('Calculating C_npmi coherence...')\n",
    "coherence_c_npmi = {}\n",
    "for i, model in tqdm(enumerate(models)):\n",
    "    cu = h.eval_coherence(h.get_topic_words(model), gensim_dictionary, data_train, coherence_type='c_npmi')    \n",
    "    coherence_c_npmi[i] = cu"
   ]
  },
  {
   "cell_type": "code",
   "execution_count": 11,
   "metadata": {},
   "outputs": [
    {
     "name": "stdout",
     "output_type": "stream",
     "text": [
      "time: 1.27 ms\n"
     ]
    }
   ],
   "source": [
    "import collections\n",
    "import numpy as np\n",
    "\n",
    "# returns x, avg, stddev\n",
    "def prep_metric(data, models):\n",
    "    d = collections.defaultdict(list)\n",
    "    for i, v in data.items():\n",
    "        k = models[i].tw\n",
    "        d[k].append(v)\n",
    "    x = []\n",
    "    y = []\n",
    "    s = []\n",
    "    for k, l in d.items():\n",
    "        a = np.array(l)\n",
    "        x.append(k)\n",
    "        y.append(np.median(a))\n",
    "        s.append(np.std(a))\n",
    "    \n",
    "    return (x,y,s)"
   ]
  },
  {
   "cell_type": "code",
   "execution_count": 17,
   "metadata": {},
   "outputs": [
    {
     "data": {
      "image/png": "[encoded data removed]",
      "text/plain": [
       "<Figure size 1152x864 with 7 Axes>"
      ]
     },
     "metadata": {
      "needs_background": "light"
     },
     "output_type": "display_data"
    },
    {
     "name": "stdout",
     "output_type": "stream",
     "text": [
      "time: 568 ms\n"
     ]
    }
   ],
   "source": [
    "fig = plt.figure(figsize=(16,12))\n",
    "fig.suptitle('LDA training performance vs. topic count')\n",
    "\n",
    "\n",
    "x,y,s = prep_metric(iterations, models)\n",
    "\n",
    "plt.subplot(241)\n",
    "plt.bar(x,y,yerr=s)\n",
    "plt.title('Training iterations')\n",
    "\n",
    "\n",
    "x,y,s = prep_metric(training_time, models)\n",
    "\n",
    "plt.subplot(245)\n",
    "plt.bar(x,y,yerr=s)\n",
    "plt.title('Training time')\n",
    "\n",
    "\n",
    "x,y,s = prep_metric(train_perplexity, models)\n",
    "\n",
    "plt.subplot(242)\n",
    "plt.bar(x,y,yerr=s)\n",
    "plt.title('Perplexity (train)')\n",
    "\n",
    "\n",
    "x,y,s = prep_metric(test_perplexity, models)\n",
    "\n",
    "plt.subplot(246)\n",
    "plt.bar(x,y,yerr=s)\n",
    "plt.title('Perplexity (test)')\n",
    "\n",
    "\n",
    "x,y,s = prep_metric(coherence_c_v, models)\n",
    "plt.subplot(243)\n",
    "plt.bar(x,y,yerr=s)\n",
    "plt.title('Coherence (c_v)')\n",
    "\n",
    "\n",
    "x,y,s = prep_metric(coherence_u_mass, models)\n",
    "\n",
    "plt.subplot(247)\n",
    "plt.bar(x,y,yerr=s)\n",
    "plt.title('Coherence (u_mass)')\n",
    "\n",
    "\n",
    "x,y,s = prep_metric(coherence_c_npmi, models)\n",
    "\n",
    "plt.subplot(248)\n",
    "plt.bar(x,y,yerr=s)\n",
    "plt.title('Coherence (c_npmi)')\n",
    "\n",
    "plt.show()\n",
    "\n"
   ]
  },
  {
   "cell_type": "code",
   "execution_count": 13,
   "metadata": {},
   "outputs": [
    {
     "name": "stdout",
     "output_type": "stream",
     "text": [
      "2020-06-17 11:05:24\n",
      "time: 524 µs\n"
     ]
    }
   ],
   "source": [
    "import datetime\n",
    "print(datetime.datetime.now().strftime('%F %T'))"
   ]
  },
  {
   "cell_type": "code",
   "execution_count": 14,
   "metadata": {},
   "outputs": [
    {
     "data": {
      "text/plain": [
       "-26.291759376832815"
      ]
     },
     "execution_count": 14,
     "metadata": {},
     "output_type": "execute_result"
    },
    {
     "name": "stdout",
     "output_type": "stream",
     "text": [
      "time: 8.03 s\n"
     ]
    }
   ],
   "source": [
    "# dir(corpus_train)\n",
    "docs = [models[1].make_doc(d) for d in data_train]\n",
    "_,lls=models[1].infer(doc=docs)\n",
    "lengths = [len(d) for d in data_train]\n",
    "\n",
    "np.sum(np.asarray(lls)) / np.sum(lengths)"
   ]
  },
  {
   "cell_type": "code",
   "execution_count": 15,
   "metadata": {},
   "outputs": [
    {
     "data": {
      "text/plain": [
       "32122797156.264767"
      ]
     },
     "execution_count": 15,
     "metadata": {},
     "output_type": "execute_result"
    },
    {
     "name": "stdout",
     "output_type": "stream",
     "text": [
      "time: 6.94 s\n"
     ]
    }
   ],
   "source": [
    "h.eval_perplexity(models[2], data_train)"
   ]
  },
  {
   "cell_type": "code",
   "execution_count": null,
   "metadata": {},
   "outputs": [],
   "source": []
  }
 ],
 "metadata": {
  "kernelspec": {
   "display_name": "Python 3",
   "language": "python",
   "name": "python3"
  },
  "language_info": {
   "codemirror_mode": {
    "name": "ipython",
    "version": 3
   },
   "file_extension": ".py",
   "mimetype": "text/x-python",
   "name": "python",
   "nbconvert_exporter": "python",
   "pygments_lexer": "ipython3",
   "version": "3.7.7"
  }
 },
 "nbformat": 4,
 "nbformat_minor": 4
}
