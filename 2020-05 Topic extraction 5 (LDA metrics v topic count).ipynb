{
 "cells": [
  {
   "cell_type": "markdown",
   "metadata": {},
   "source": [
    "# Topic extraction\n",
    "\n",
    "Using `tomotopy`'s LDA implementation.\n",
    "Comparing different number of topics and evaluating coherence."
   ]
  },
  {
   "cell_type": "code",
   "execution_count": 1,
   "metadata": {},
   "outputs": [],
   "source": [
    "%load_ext autotime\n",
    "\n",
    "import psycopg2\n",
    "import numpy \n",
    "import nltk\n",
    "import wordcloud\n",
    "import matplotlib.pyplot as plt\n",
    "import gensim\n",
    "from tqdm import tqdm\n",
    "import multiprocessing\n",
    "\n",
    "DATASET_NAME = 'full-lemma-nophra'\n",
    "n_iterations = 250\n",
    "test_ratio = 0.2"
   ]
  },
  {
   "cell_type": "code",
   "execution_count": 2,
   "metadata": {},
   "outputs": [
    {
     "name": "stdout",
     "output_type": "stream",
     "text": [
      "Loading dataset...\n",
      "Building gensim corpus...\n",
      "7253 training documents\n",
      "1814 test documents\n",
      "time: 337 ms\n"
     ]
    }
   ],
   "source": [
    "import pickle\n",
    "\n",
    "print('Loading dataset...')\n",
    "dataset = pickle.load(open('dataset.small.pkl', 'rb'))\n",
    "data_train = dataset['train']\n",
    "data_test  = dataset['test']\n",
    "\n",
    "print(\"Building gensim corpus...\")\n",
    "gensim_dictionary = gensim.corpora.Dictionary(data_train)\n",
    "\n",
    "print(f'{len(data_train)} training documents')\n",
    "print(f'{len(data_test)} test documents')"
   ]
  },
  {
   "cell_type": "code",
   "execution_count": 3,
   "metadata": {},
   "outputs": [
    {
     "name": "stdout",
     "output_type": "stream",
     "text": [
      "time: 175 ms\n"
     ]
    }
   ],
   "source": [
    "import tomotopy as tp\n",
    "\n",
    "def prepare_model(k):\n",
    "    model = tp.LDAModel(\n",
    "        tw=tp.TermWeight.ONE,\n",
    "        k=k,\n",
    "        seed=0\n",
    "    )\n",
    "\n",
    "    for tokens in tqdm(data_train):\n",
    "        model.add_doc(tokens)\n",
    "    \n",
    "    return model"
   ]
  },
  {
   "cell_type": "code",
   "execution_count": 4,
   "metadata": {},
   "outputs": [
    {
     "name": "stdout",
     "output_type": "stream",
     "text": [
      "time: 1.75 ms\n"
     ]
    }
   ],
   "source": [
    "# https://towardsdatascience.com/dont-be-afraid-of-nonparametric-topic-models-part-2-python-e5666db347a\n",
    "# https://github.com/ecoronado92/towards_data_science/blob/master/hdp_example/scripts/model_funcs.py\n",
    "\n",
    "def get_topic_words(model, top_n=10):\n",
    "    '''Wrapper function to extract topics from trained tomotopy HDP model \n",
    "    \n",
    "    ** Inputs **\n",
    "    model:obj -> trained model\n",
    "    top_n: int -> top n words in topic based on frequencies\n",
    "    \n",
    "    ** Returns **\n",
    "    topics: dict -> per topic, an arrays2 with top words and associated frequencies \n",
    "    '''\n",
    "    \n",
    "    # Get most important topics by # of times they were assigned (i.e. counts)\n",
    "    sorted_topics = range(model.k)\n",
    "    \n",
    "    topics=dict()\n",
    "    \n",
    "    # For topics found, extract only those that are still assigned\n",
    "    for k in sorted_topics:\n",
    "        try:\n",
    "            if not model.is_live_topic(k): continue # remove un-assigned topics at the end (i.e. not alive)\n",
    "        except AttributeError: \n",
    "            pass\n",
    "        \n",
    "        topic_wp = model.get_topic_words(k, top_n=top_n)\n",
    "\n",
    "        topics[k] = topic_wp # store topic word/frequency array\n",
    "        \n",
    "    return topics\n",
    "\n",
    "\n",
    "\n",
    "def eval_coherence(topics_dict, vocab, documents, coherence_type='c_v'):\n",
    "    '''Wrapper function that uses gensim Coherence Model to compute topic coherence scores\n",
    "    \n",
    "    ** Inputs **\n",
    "    topic_dict: dict -> topic dictionary from train_HDPmodel function\n",
    "    vocab: gensim.corpora.Dictionary\n",
    "    documents: list of list of strings\n",
    "    coherence_typ: str -> type of coherence value to comput (see gensim for opts)\n",
    "    \n",
    "    ** Returns **\n",
    "    3-tuple,\n",
    "        float -> coherence value\n",
    "        float list -> per-topic coherence\n",
    "        float list -> per-topic coherence deviation\n",
    "    '''\n",
    "    \n",
    "    # Build topic list from dictionary\n",
    "    topic_list=[]\n",
    "    for k, tups in topics_dict.items():\n",
    "        topic_tokens = [w for w,p in tups]\n",
    "        topic_list.append(topic_tokens)\n",
    "            \n",
    "\n",
    "    # Build Coherence model\n",
    "    cm = gensim.models.CoherenceModel(\n",
    "        topics=topic_list,\n",
    "        dictionary=vocab,\n",
    "        texts=documents, \n",
    "        coherence=coherence_type,\n",
    "        processes=16)\n",
    "    \n",
    "    return cm.get_coherence()\n"
   ]
  },
  {
   "cell_type": "code",
   "execution_count": 5,
   "metadata": {
    "scrolled": false
   },
   "outputs": [
    {
     "name": "stdout",
     "output_type": "stream",
     "text": [
      "time: 12.3 ms\n"
     ]
    }
   ],
   "source": [
    "#\n",
    "# FIXME:\n",
    "# only consider a topic when its score is > some threshold (2x 1/20 ?)\n",
    "\n",
    "def topic_counts(model, top_n):\n",
    "    \"\"\"For each topic, count posts where the topic figure in the `top_n` topics\n",
    "    \n",
    "    Returns:\n",
    "    dict of topic_id (int), posts (int)\n",
    "    \"\"\"\n",
    "    counts = {}\n",
    "    threshold = 2.0 / model.k\n",
    "    for k in range(model.k):\n",
    "        counts[k] = 0\n",
    "    for doc in tqdm(model.docs):\n",
    "        for k, v in doc.get_topics(top_n=top_n):\n",
    "            if v < threshold: next\n",
    "            counts[k] += 1\n",
    "    return counts"
   ]
  },
  {
   "cell_type": "code",
   "execution_count": 6,
   "metadata": {},
   "outputs": [
    {
     "name": "stdout",
     "output_type": "stream",
     "text": [
      "time: 9.57 ms\n"
     ]
    }
   ],
   "source": [
    "# http://qpleple.com/perplexity-to-evaluate-topic-models/\n",
    "import math\n",
    "\n",
    "def model_perplexity(model, samples):\n",
    "    count = 0\n",
    "    docs = [model.make_doc(s) for s in samples]\n",
    "    _, log_likelihoods = model.infer(doc=docs)\n",
    "    lengths = [len(s) for s in samples]\n",
    "    \n",
    "    assert len(lengths) == len(log_likelihoods)\n",
    "    return math.exp(- numpy.sum(numpy.array(log_likelihoods)) / numpy.sum(numpy.array(lengths)))\n"
   ]
  },
  {
   "cell_type": "code",
   "execution_count": 7,
   "metadata": {},
   "outputs": [
    {
     "name": "stderr",
     "output_type": "stream",
     "text": [
      "100%|██████████| 7253/7253 [00:00<00:00, 142857.82it/s]\n",
      "100%|██████████| 7253/7253 [00:00<00:00, 163216.59it/s]\n",
      "100%|██████████| 7253/7253 [00:00<00:00, 165475.17it/s]\n",
      "  0%|          | 0/50 [00:00<?, ?it/s]"
     ]
    },
    {
     "name": "stdout",
     "output_type": "stream",
     "text": [
      "Preparing models...\n",
      "Training models...\n"
     ]
    },
    {
     "name": "stderr",
     "output_type": "stream",
     "text": [
      "100%|██████████| 50/50 [00:01<00:00, 28.94it/s]"
     ]
    },
    {
     "name": "stdout",
     "output_type": "stream",
     "text": [
      "Saving reported perplexity...\n",
      "Calculating model metrics...\n"
     ]
    },
    {
     "name": "stderr",
     "output_type": "stream",
     "text": [
      "\n",
      "100%|██████████| 3/3 [00:00<00:00, 2870.84it/s]\n",
      "  0%|          | 0/3 [00:00<?, ?it/s]"
     ]
    },
    {
     "name": "stdout",
     "output_type": "stream",
     "text": [
      "Calculating coherence...\n"
     ]
    },
    {
     "name": "stderr",
     "output_type": "stream",
     "text": [
      "100%|██████████| 3/3 [00:01<00:00,  1.55it/s]"
     ]
    },
    {
     "name": "stdout",
     "output_type": "stream",
     "text": [
      "time: 4.28 s\n"
     ]
    },
    {
     "name": "stderr",
     "output_type": "stream",
     "text": [
      "\n"
     ]
    }
   ],
   "source": [
    "models = {}\n",
    "reported_perplexity = {}\n",
    "train_perplexity = {}\n",
    "test_perplexity = {}\n",
    "coherence_c_v = {}\n",
    "coherence_u_mass = {}\n",
    "\n",
    "k_values = list(reversed(range(2,5)))\n",
    "n_iterations = 50\n",
    "\n",
    "print('Preparing models...')\n",
    "for k in k_values:\n",
    "    models[k] = prepare_model(k)\n",
    "\n",
    "print('Training models...')\n",
    "for iter in tqdm(range(0, n_iterations)):\n",
    "    for k,model in models.items():\n",
    "        model.train(1)\n",
    "\n",
    "print('Saving reported perplexity...')\n",
    "for k,model in models.items():\n",
    "    reported_perplexity[k] = model.perplexity\n",
    "\n",
    "print('Calculating model metrics...')\n",
    "def compute_perplexity(k):\n",
    "    model = models[k]\n",
    "    p0 = model_perplexity(model, data_train)\n",
    "    p1 = model_perplexity(model, data_test)\n",
    "\n",
    "    return (k, p0, p1)\n",
    "\n",
    "with multiprocessing.Pool(processes=8) as pool:\n",
    "    for k, p0, p1 in pool.imap_unordered(compute_perplexity, tqdm(k_values)):\n",
    "        train_perplexity[k] = p0\n",
    "        test_perplexity[k]  = p1\n",
    "\n",
    "print('Calculating coherence...')\n",
    "for k, model in tqdm(models.items()):\n",
    "    cv = eval_coherence(get_topic_words(model), gensim_dictionary, data_train, coherence_type='c_v')\n",
    "    cu = eval_coherence(get_topic_words(model), gensim_dictionary, data_train, coherence_type='u_mass')    \n",
    "    coherence_c_v[k]    = cv\n",
    "    coherence_u_mass[k] = cu"
   ]
  },
  {
   "cell_type": "code",
   "execution_count": 8,
   "metadata": {},
   "outputs": [
    {
     "name": "stdout",
     "output_type": "stream",
     "text": [
      "{2: 2047.662099964341, 3: 2204.189947930309, 4: 2137.5812086741958}\n",
      "{2: 1373.404589891262, 3: 1512.5981445813693, 4: 1514.4886826093011}\n",
      "{4: 0.47182649539259935, 3: 0.47296640766511144, 2: 0.45981641842599535}\n",
      "{4: -1.7342557761992285, 3: -1.566364422521661, 2: -1.4589148200357147}\n",
      "time: 697 µs\n"
     ]
    }
   ],
   "source": [
    "print(train_perplexity)\n",
    "print(test_perplexity)\n",
    "print(coherence_c_v)\n",
    "print(coherence_u_mass)"
   ]
  },
  {
   "cell_type": "code",
   "execution_count": 9,
   "metadata": {},
   "outputs": [
    {
     "data": {
      "image/png": "[encoded data removed]",
      "text/plain": [
       "<Figure size 864x864 with 4 Axes>"
      ]
     },
     "metadata": {
      "needs_background": "light"
     },
     "output_type": "display_data"
    },
    {
     "name": "stdout",
     "output_type": "stream",
     "text": [
      "time: 366 ms\n"
     ]
    }
   ],
   "source": [
    "fig = plt.figure(figsize=(12,12))\n",
    "fig.suptitle('LDA training performance vs. topic count')\n",
    "\n",
    "x = list(train_perplexity.keys())\n",
    "y = list(train_perplexity.values())\n",
    "\n",
    "plt.subplot(231)\n",
    "plt.plot(x,y)\n",
    "plt.title('Training data perplexity')\n",
    "\n",
    "x = list(test_perplexity.keys())\n",
    "y = list(test_perplexity.values())\n",
    "\n",
    "plt.subplot(232)\n",
    "plt.plot(x,y)\n",
    "plt.title('Hold-out data perplexity')\n",
    "\n",
    "x = list(coherence_c_v.keys())\n",
    "y = list(coherence_c_v.values())\n",
    "\n",
    "plt.subplot(234)\n",
    "plt.plot(x,y)\n",
    "plt.title('Coherence (c_v)')\n",
    "\n",
    "x = list(coherence_u_mass.keys())\n",
    "y = list(coherence_u_mass.values())\n",
    "\n",
    "plt.subplot(235)\n",
    "plt.plot(x,y)\n",
    "plt.title('Coherence (u_mass)')\n",
    "\n",
    "plt.show()\n",
    "\n"
   ]
  },
  {
   "cell_type": "code",
   "execution_count": null,
   "metadata": {},
   "outputs": [],
   "source": []
  }
 ],
 "metadata": {
  "kernelspec": {
   "display_name": "Python 3",
   "language": "python",
   "name": "python3"
  },
  "language_info": {
   "codemirror_mode": {
    "name": "ipython",
    "version": 3
   },
   "file_extension": ".py",
   "mimetype": "text/x-python",
   "name": "python",
   "nbconvert_exporter": "python",
   "pygments_lexer": "ipython3",
   "version": "3.7.7"
  }
 },
 "nbformat": 4,
 "nbformat_minor": 4
}
