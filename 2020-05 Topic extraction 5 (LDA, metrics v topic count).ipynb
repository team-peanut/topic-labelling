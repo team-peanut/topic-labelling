{
 "cells": [
  {
   "cell_type": "markdown",
   "metadata": {},
   "source": [
    "# Topic extraction\n",
    "\n",
    "Using `tomotopy`'s LDA implementation.\n",
    "Comparing different number of topics and evaluating coherence."
   ]
  },
  {
   "cell_type": "code",
   "execution_count": 1,
   "metadata": {},
   "outputs": [],
   "source": [
    "%load_ext autotime\n",
    "\n",
    "import psycopg2\n",
    "import numpy \n",
    "import nltk\n",
    "import wordcloud\n",
    "import matplotlib.pyplot as plt\n",
    "import gensim\n",
    "from tqdm import tqdm\n",
    "import multiprocessing\n",
    "\n",
    "DATASET_NAME = '200k-lemma-nophrase'\n",
    "TOPIC_COUNTS = list(reversed(range(2,60)))\n",
    "N_REPEATS = 5\n",
    "\n",
    "# DATASET_NAME = 'small'\n",
    "# TOPIC_COUNTS = list(reversed(range(2,5)))"
   ]
  },
  {
   "cell_type": "code",
   "execution_count": 2,
   "metadata": {},
   "outputs": [
    {
     "name": "stdout",
     "output_type": "stream",
     "text": [
      "time: 366 µs\n"
     ]
    }
   ],
   "source": [
    "def log(message):\n",
    "    print(message, flush=True)"
   ]
  },
  {
   "cell_type": "code",
   "execution_count": 3,
   "metadata": {},
   "outputs": [
    {
     "name": "stdout",
     "output_type": "stream",
     "text": [
      "Loading dataset...\n",
      "Building gensim corpus...\n",
      "145664 training documents\n",
      "36416 test documents\n",
      "time: 7.16 s\n"
     ]
    }
   ],
   "source": [
    "import pickle\n",
    "\n",
    "log('Loading dataset...')\n",
    "dataset = pickle.load(open(f'dataset.{DATASET_NAME}.pkl', 'rb'))\n",
    "data_train = dataset['train']\n",
    "data_test  = dataset['test']\n",
    "\n",
    "print(\"Building gensim corpus...\")\n",
    "gensim_dictionary = gensim.corpora.Dictionary(data_train)\n",
    "\n",
    "log(f'{len(data_train)} training documents')\n",
    "log(f'{len(data_test)} test documents')"
   ]
  },
  {
   "cell_type": "code",
   "execution_count": 4,
   "metadata": {},
   "outputs": [
    {
     "name": "stdout",
     "output_type": "stream",
     "text": [
      "time: 1.22 s\n"
     ]
    }
   ],
   "source": [
    "import tomotopy as tp\n",
    "\n",
    "def prepare_model(k):\n",
    "    model = tp.LDAModel(\n",
    "        tw=tp.TermWeight.ONE,\n",
    "        k=k\n",
    "#         seed=0\n",
    "    )\n",
    "    \n",
    "    for tokens in data_train:\n",
    "        model.add_doc(tokens)\n",
    "    \n",
    "    return model"
   ]
  },
  {
   "cell_type": "code",
   "execution_count": 5,
   "metadata": {},
   "outputs": [
    {
     "name": "stdout",
     "output_type": "stream",
     "text": [
      "time: 1.56 ms\n"
     ]
    }
   ],
   "source": [
    "import time\n",
    "import numpy as np\n",
    "import collections\n",
    "\n",
    "def train_model(m, max_iter=1000, perp_threshold=1, window=10):\n",
    "    \"\"\"\n",
    "    Train model 'm' until perplexity varies by less than 'perp_threshold'\n",
    "    \n",
    "    - max_iter: maximum number of iterations\n",
    "    - window: number of last iterations to consider for stopping\n",
    "    - perp_threshold: stop training when perplexity varies by less than this compared to the window median\n",
    "    \n",
    "    Returns (time spent, iterations)\n",
    "    \"\"\"\n",
    "    \n",
    "    t0 = time.time()\n",
    "    q = collections.deque(maxlen=window)\n",
    "    iterations = 0\n",
    "    \n",
    "#     def log(i,p):\n",
    "#         print(f'iteration {i}, perplexity {p}')\n",
    "        \n",
    "    for iter in range(window):\n",
    "        m.train(1)\n",
    "        iterations += 1\n",
    "        p = m.perplexity\n",
    "        q.append(p)\n",
    "#         log(iterations, p)\n",
    "    for iter in range(max_iter - window):\n",
    "        m.train(1)\n",
    "        iterations += 1\n",
    "        p = m.perplexity\n",
    "        p_med = np.median(np.asarray(q))\n",
    "        if p > p_med - perp_threshold: break\n",
    "        q.append(p)\n",
    "#         log(iterations, p)\n",
    "    return (\n",
    "        time.time() - t0,\n",
    "        iterations\n",
    "    )"
   ]
  },
  {
   "cell_type": "code",
   "execution_count": 6,
   "metadata": {},
   "outputs": [
    {
     "name": "stdout",
     "output_type": "stream",
     "text": [
      "time: 22.6 ms\n"
     ]
    }
   ],
   "source": [
    "# https://towardsdatascience.com/dont-be-afraid-of-nonparametric-topic-models-part-2-python-e5666db347a\n",
    "# https://github.com/ecoronado92/towards_data_science/blob/master/hdp_example/scripts/model_funcs.py\n",
    "\n",
    "def get_topic_words(model, top_n=10):\n",
    "    '''Wrapper function to extract topics from trained tomotopy HDP model \n",
    "    \n",
    "    ** Inputs **\n",
    "    model:obj -> trained model\n",
    "    top_n: int -> top n words in topic based on frequencies\n",
    "    \n",
    "    ** Returns **\n",
    "    topics: dict -> per topic, an arrays2 with top words and associated frequencies \n",
    "    '''\n",
    "    \n",
    "    # Get most important topics by # of times they were assigned (i.e. counts)\n",
    "    sorted_topics = range(model.k)\n",
    "    \n",
    "    topics=dict()\n",
    "    \n",
    "    # For topics found, extract only those that are still assigned\n",
    "    for k in sorted_topics:\n",
    "        try:\n",
    "            if not model.is_live_topic(k): continue # remove un-assigned topics at the end (i.e. not alive)\n",
    "        except AttributeError: \n",
    "            pass\n",
    "        \n",
    "        topic_wp = model.get_topic_words(k, top_n=top_n)\n",
    "\n",
    "        topics[k] = topic_wp # store topic word/frequency array\n",
    "        \n",
    "    return topics\n",
    "\n",
    "\n",
    "\n",
    "def eval_coherence(topics_dict, vocab, documents, coherence_type='c_v'):\n",
    "    '''Wrapper function that uses gensim Coherence Model to compute topic coherence scores\n",
    "    \n",
    "    ** Inputs **\n",
    "    topic_dict: dict -> topic dictionary from train_HDPmodel function\n",
    "    vocab: gensim.corpora.Dictionary\n",
    "    documents: list of list of strings\n",
    "    coherence_typ: str -> type of coherence value to comput (see gensim for opts)\n",
    "    \n",
    "    ** Returns **\n",
    "    3-tuple,\n",
    "        float -> coherence value\n",
    "        float list -> per-topic coherence\n",
    "        float list -> per-topic coherence deviation\n",
    "    '''\n",
    "    \n",
    "    # Build topic list from dictionary\n",
    "    topic_list=[]\n",
    "    for k, tups in topics_dict.items():\n",
    "        topic_tokens = [w for w,p in tups]\n",
    "        topic_list.append(topic_tokens)\n",
    "            \n",
    "\n",
    "    # Build Coherence model\n",
    "    cm = gensim.models.CoherenceModel(\n",
    "        topics=topic_list,\n",
    "        dictionary=vocab,\n",
    "        texts=documents, \n",
    "        coherence=coherence_type,\n",
    "        processes=16)\n",
    "    \n",
    "    return cm.get_coherence()\n"
   ]
  },
  {
   "cell_type": "code",
   "execution_count": 7,
   "metadata": {
    "scrolled": false
   },
   "outputs": [
    {
     "name": "stdout",
     "output_type": "stream",
     "text": [
      "time: 7.95 ms\n"
     ]
    }
   ],
   "source": [
    "#\n",
    "# FIXME:\n",
    "# only consider a topic when its score is > some threshold (2x 1/20 ?)\n",
    "\n",
    "def topic_counts(model, top_n):\n",
    "    \"\"\"For each topic, count posts where the topic figure in the `top_n` topics\n",
    "    \n",
    "    Returns:\n",
    "    dict of topic_id (int), posts (int)\n",
    "    \"\"\"\n",
    "    counts = {}\n",
    "    threshold = 2.0 / model.k\n",
    "    for k in range(model.k):\n",
    "        counts[k] = 0\n",
    "    for doc in tqdm(model.docs):\n",
    "        for k, v in doc.get_topics(top_n=top_n):\n",
    "            if v < threshold: next\n",
    "            counts[k] += 1\n",
    "    return counts"
   ]
  },
  {
   "cell_type": "code",
   "execution_count": 8,
   "metadata": {},
   "outputs": [
    {
     "name": "stdout",
     "output_type": "stream",
     "text": [
      "time: 8.08 ms\n"
     ]
    }
   ],
   "source": [
    "# http://qpleple.com/perplexity-to-evaluate-topic-models/\n",
    "import math\n",
    "\n",
    "def model_perplexity(model, samples):\n",
    "    count = 0\n",
    "    docs = [model.make_doc(s) for s in samples]\n",
    "    _, log_likelihoods = model.infer(doc=docs)\n",
    "    lengths = [len(s) for s in samples]\n",
    "    \n",
    "    assert len(lengths) == len(log_likelihoods)\n",
    "    return math.exp(- numpy.sum(numpy.array(log_likelihoods)) / numpy.sum(numpy.array(lengths)))\n"
   ]
  },
  {
   "cell_type": "code",
   "execution_count": 9,
   "metadata": {},
   "outputs": [
    {
     "name": "stdout",
     "output_type": "stream",
     "text": [
      "Preparing models...\n"
     ]
    },
    {
     "name": "stderr",
     "output_type": "stream",
     "text": [
      "100%|██████████| 190/190 [02:43<00:00,  1.16it/s]"
     ]
    },
    {
     "name": "stdout",
     "output_type": "stream",
     "text": [
      "Training models...\n"
     ]
    },
    {
     "name": "stderr",
     "output_type": "stream",
     "text": [
      "\n",
      "190it [1:26:32, 27.33s/it]"
     ]
    },
    {
     "name": "stdout",
     "output_type": "stream",
     "text": [
      "time: 1h 29min 15s\n"
     ]
    },
    {
     "name": "stderr",
     "output_type": "stream",
     "text": [
      "\n"
     ]
    }
   ],
   "source": [
    "models = []\n",
    "reported_perplexity = {}\n",
    "train_perplexity = {}\n",
    "test_perplexity = {}\n",
    "coherence_c_v = {}\n",
    "coherence_u_mass = {}\n",
    "iterations = {}\n",
    "training_time = {}\n",
    "\n",
    "log('Preparing models...')\n",
    "for k in tqdm(TOPIC_COUNTS * N_REPEATS):\n",
    "    models.append(prepare_model(k))\n",
    "\n",
    "log('Training models...')\n",
    "for i,m in tqdm(enumerate(models)):\n",
    "    t,n = train_model(m)\n",
    "    iterations[i] = n\n",
    "    training_time[i] = t"
   ]
  },
  {
   "cell_type": "code",
   "execution_count": 10,
   "metadata": {},
   "outputs": [
    {
     "name": "stdout",
     "output_type": "stream",
     "text": [
      "Saving reported perplexity...\n"
     ]
    },
    {
     "name": "stderr",
     "output_type": "stream",
     "text": [
      "190it [00:09, 19.33it/s]"
     ]
    },
    {
     "name": "stdout",
     "output_type": "stream",
     "text": [
      "time: 9.83 s\n"
     ]
    },
    {
     "name": "stderr",
     "output_type": "stream",
     "text": [
      "\n"
     ]
    }
   ],
   "source": [
    "log('Saving reported perplexity...')\n",
    "for i, model in tqdm(enumerate(models)):\n",
    "    reported_perplexity[i] = model.perplexity"
   ]
  },
  {
   "cell_type": "code",
   "execution_count": 11,
   "metadata": {},
   "outputs": [
    {
     "name": "stdout",
     "output_type": "stream",
     "text": [
      "time: 269 µs\n"
     ]
    }
   ],
   "source": [
    "# log('Calculating test perplexity...')\n",
    "# for k, model in tqdm(models.items()):\n",
    "#     test_perplexity[k]  = model_perplexity(model, data_test)"
   ]
  },
  {
   "cell_type": "code",
   "execution_count": 12,
   "metadata": {},
   "outputs": [
    {
     "name": "stdout",
     "output_type": "stream",
     "text": [
      "time: 15.3 ms\n"
     ]
    }
   ],
   "source": [
    "# log('Calculating train perplexity...')\n",
    "# for k, model in tqdm(models.items()):\n",
    "#     train_perplexity[k] = model_perplexity(model, data_train)"
   ]
  },
  {
   "cell_type": "code",
   "execution_count": 13,
   "metadata": {},
   "outputs": [
    {
     "name": "stdout",
     "output_type": "stream",
     "text": [
      "Calculating C_v coherence...\n"
     ]
    },
    {
     "name": "stderr",
     "output_type": "stream",
     "text": [
      "190it [26:06,  8.24s/it]"
     ]
    },
    {
     "name": "stdout",
     "output_type": "stream",
     "text": [
      "time: 26min 6s\n"
     ]
    },
    {
     "name": "stderr",
     "output_type": "stream",
     "text": [
      "\n"
     ]
    }
   ],
   "source": [
    "log('Calculating C_v coherence...')\n",
    "for i, model in tqdm(enumerate(models)):\n",
    "    cv = eval_coherence(get_topic_words(model), gensim_dictionary, data_train, coherence_type='c_v')\n",
    "    coherence_c_v[i] = cv"
   ]
  },
  {
   "cell_type": "code",
   "execution_count": 14,
   "metadata": {},
   "outputs": [
    {
     "name": "stdout",
     "output_type": "stream",
     "text": [
      "Calculating U_mass coherence...\n"
     ]
    },
    {
     "name": "stderr",
     "output_type": "stream",
     "text": [
      "190it [16:21,  5.16s/it]"
     ]
    },
    {
     "name": "stdout",
     "output_type": "stream",
     "text": [
      "time: 16min 21s\n"
     ]
    },
    {
     "name": "stderr",
     "output_type": "stream",
     "text": [
      "\n"
     ]
    }
   ],
   "source": [
    "log('Calculating U_mass coherence...')\n",
    "for i, model in tqdm(enumerate(models)):\n",
    "    cu = eval_coherence(get_topic_words(model), gensim_dictionary, data_train, coherence_type='u_mass')    \n",
    "    coherence_u_mass[i] = cu"
   ]
  },
  {
   "cell_type": "code",
   "execution_count": 21,
   "metadata": {},
   "outputs": [
    {
     "data": {
      "text/plain": [
       "([39,\n",
       "  38,\n",
       "  37,\n",
       "  36,\n",
       "  35,\n",
       "  34,\n",
       "  33,\n",
       "  32,\n",
       "  31,\n",
       "  30,\n",
       "  29,\n",
       "  28,\n",
       "  27,\n",
       "  26,\n",
       "  25,\n",
       "  24,\n",
       "  23,\n",
       "  22,\n",
       "  21,\n",
       "  20,\n",
       "  19,\n",
       "  18,\n",
       "  17,\n",
       "  16,\n",
       "  15,\n",
       "  14,\n",
       "  13,\n",
       "  12,\n",
       "  11,\n",
       "  10,\n",
       "  9,\n",
       "  8,\n",
       "  7,\n",
       "  6,\n",
       "  5,\n",
       "  4,\n",
       "  3,\n",
       "  2],\n",
       " [2914.3867892480066,\n",
       "  2935.0820425562492,\n",
       "  2921.539979716611,\n",
       "  2866.432112486314,\n",
       "  2909.332858746506,\n",
       "  2862.6944723751803,\n",
       "  2885.516163123072,\n",
       "  2862.6912186751233,\n",
       "  2801.663544158156,\n",
       "  2849.4809630883624,\n",
       "  2862.8749091301424,\n",
       "  2893.9944312648963,\n",
       "  2844.1457465701346,\n",
       "  2777.396560692534,\n",
       "  2832.7594642267236,\n",
       "  2830.8460728469076,\n",
       "  2829.3126256034816,\n",
       "  2789.320099325737,\n",
       "  2731.245163362787,\n",
       "  2710.8013929769995,\n",
       "  2745.8627448950833,\n",
       "  2735.359627767802,\n",
       "  2689.6091443447876,\n",
       "  2719.24418939393,\n",
       "  2662.460307202856,\n",
       "  2618.7576243004387,\n",
       "  2661.1055288220246,\n",
       "  2549.564210468758,\n",
       "  2637.6091158855793,\n",
       "  2543.9483913883228,\n",
       "  2552.275142370296,\n",
       "  2467.833300826525,\n",
       "  2436.598436582036,\n",
       "  2448.4916377411323,\n",
       "  2402.59179666226,\n",
       "  2325.0689310573043,\n",
       "  2365.708100857551,\n",
       "  2191.485937014527],\n",
       " [2914.3867892480066,\n",
       "  2935.0820425562492,\n",
       "  2921.539979716611,\n",
       "  2866.432112486314,\n",
       "  2909.332858746506,\n",
       "  2862.6944723751803,\n",
       "  2885.516163123072,\n",
       "  2862.6912186751233,\n",
       "  2801.663544158156,\n",
       "  2849.4809630883624,\n",
       "  2862.8749091301424,\n",
       "  2893.9944312648963,\n",
       "  2844.1457465701346,\n",
       "  2777.396560692534,\n",
       "  2832.7594642267236,\n",
       "  2830.8460728469076,\n",
       "  2829.3126256034816,\n",
       "  2789.320099325737,\n",
       "  2731.245163362787,\n",
       "  2710.8013929769995,\n",
       "  2745.8627448950833,\n",
       "  2735.359627767802,\n",
       "  2689.6091443447876,\n",
       "  2719.24418939393,\n",
       "  2662.460307202856,\n",
       "  2618.7576243004387,\n",
       "  2661.1055288220246,\n",
       "  2549.564210468758,\n",
       "  2637.6091158855793,\n",
       "  2543.9483913883228,\n",
       "  2552.275142370296,\n",
       "  2467.833300826525,\n",
       "  2436.598436582036,\n",
       "  2448.4916377411323,\n",
       "  2402.59179666226,\n",
       "  2325.0689310573043,\n",
       "  2365.708100857551,\n",
       "  2191.485937014527],\n",
       " [2914.3867892480066,\n",
       "  2935.0820425562492,\n",
       "  2921.539979716611,\n",
       "  2866.432112486314,\n",
       "  2909.332858746506,\n",
       "  2862.6944723751803,\n",
       "  2885.516163123072,\n",
       "  2862.6912186751233,\n",
       "  2801.663544158156,\n",
       "  2849.4809630883624,\n",
       "  2862.8749091301424,\n",
       "  2893.9944312648963,\n",
       "  2844.1457465701346,\n",
       "  2777.396560692534,\n",
       "  2832.7594642267236,\n",
       "  2830.8460728469076,\n",
       "  2829.3126256034816,\n",
       "  2789.320099325737,\n",
       "  2731.245163362787,\n",
       "  2710.8013929769995,\n",
       "  2745.8627448950833,\n",
       "  2735.359627767802,\n",
       "  2689.6091443447876,\n",
       "  2719.24418939393,\n",
       "  2662.460307202856,\n",
       "  2618.7576243004387,\n",
       "  2661.1055288220246,\n",
       "  2549.564210468758,\n",
       "  2637.6091158855793,\n",
       "  2543.9483913883228,\n",
       "  2552.275142370296,\n",
       "  2467.833300826525,\n",
       "  2436.598436582036,\n",
       "  2448.4916377411323,\n",
       "  2402.59179666226,\n",
       "  2325.0689310573043,\n",
       "  2365.708100857551,\n",
       "  2191.485937014527])"
      ]
     },
     "execution_count": 21,
     "metadata": {},
     "output_type": "execute_result"
    },
    {
     "name": "stdout",
     "output_type": "stream",
     "text": [
      "time: 12.7 ms\n"
     ]
    }
   ],
   "source": [
    "# returns x, y_med, y_min, y_max\n",
    "def prep_metric(data, models):\n",
    "    d = collections.defaultdict(list)\n",
    "    for i, v in data.items():\n",
    "        k = models[i].k\n",
    "        d[k].append(v)\n",
    "    x = []\n",
    "    y = []\n",
    "    ymin = []\n",
    "    ymax = []\n",
    "    for k, l in d.items():\n",
    "        a = np.array(l)\n",
    "        x.append(k)\n",
    "        y.append(np.median(a))\n",
    "        ymin.append(np.min(a))\n",
    "        ymax.append(np.max(a))\n",
    "    \n",
    "    return (x,y,ymin,ymax)\n",
    "\n",
    "prep_metric(reported_perplexity, models)"
   ]
  },
  {
   "cell_type": "code",
   "execution_count": 15,
   "metadata": {},
   "outputs": [
    {
     "data": {
      "image/png": "[encoded data removed]",
      "text/plain": [
       "<Figure size 864x864 with 5 Axes>"
      ]
     },
     "metadata": {
      "needs_background": "light"
     },
     "output_type": "display_data"
    },
    {
     "name": "stdout",
     "output_type": "stream",
     "text": [
      "time: 439 ms\n"
     ]
    }
   ],
   "source": [
    "fig = plt.figure(figsize=(12,12))\n",
    "fig.suptitle('LDA training performance vs. topic count')\n",
    "\n",
    "x = list(reported_perplexity.keys())\n",
    "y = list(reported_perplexity.values())\n",
    "\n",
    "plt.subplot(231)\n",
    "plt.plot(x,y)\n",
    "plt.title('Reported training perplexity')\n",
    "\n",
    "x = list(train_perplexity.keys())\n",
    "y = list(train_perplexity.values())\n",
    "\n",
    "plt.subplot(232)\n",
    "plt.plot(x,y)\n",
    "plt.title('Training data perplexity')\n",
    "\n",
    "x = list(test_perplexity.keys())\n",
    "y = list(test_perplexity.values())\n",
    "\n",
    "plt.subplot(233)\n",
    "plt.plot(x,y)\n",
    "plt.title('Hold-out data perplexity')\n",
    "\n",
    "x = list(coherence_c_v.keys())\n",
    "y = list(coherence_c_v.values())\n",
    "\n",
    "plt.subplot(234)\n",
    "plt.plot(x,y)\n",
    "plt.title('Coherence (c_v)')\n",
    "\n",
    "x = list(coherence_u_mass.keys())\n",
    "y = list(coherence_u_mass.values())\n",
    "\n",
    "plt.subplot(235)\n",
    "plt.plot(x,y)\n",
    "plt.title('Coherence (u_mass)')\n",
    "\n",
    "plt.show()\n",
    "\n"
   ]
  },
  {
   "cell_type": "code",
   "execution_count": null,
   "metadata": {},
   "outputs": [],
   "source": []
  }
 ],
 "metadata": {
  "kernelspec": {
   "display_name": "Python 3",
   "language": "python",
   "name": "python3"
  },
  "language_info": {
   "codemirror_mode": {
    "name": "ipython",
    "version": 3
   },
   "file_extension": ".py",
   "mimetype": "text/x-python",
   "name": "python",
   "nbconvert_exporter": "python",
   "pygments_lexer": "ipython3",
   "version": "3.7.7"
  }
 },
 "nbformat": 4,
 "nbformat_minor": 4
}
